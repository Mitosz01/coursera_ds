{
 "cells": [
  {
   "cell_type": "markdown",
   "id": "0496fe4b",
   "metadata": {},
   "source": [
    "# Science Tools and Ecosystem"
   ]
  },
  {
   "cell_type": "markdown",
   "id": "97b13eac",
   "metadata": {},
   "source": [
    "In this notebook, Data Science Tools and Ecosystem are summarized."
   ]
  },
  {
   "cell_type": "markdown",
   "id": "5038e382",
   "metadata": {},
   "source": [
    "**Objectives:**\n",
    "1. List popular languages in Data Science\n",
    "2. List popular libraries used in these languages in Data Science\n",
    "3. List Data science tools\n",
    "4. Testing the basic arithmetic functionalities in python"
   ]
  },
  {
   "cell_type": "markdown",
   "id": "9e45bf5f",
   "metadata": {},
   "source": [
    "Some of the popular languages that Data Scientists use are:\n",
    "1. Python\n",
    "2. R\n",
    "3. SQL\n",
    "4. Julia"
   ]
  },
  {
   "cell_type": "markdown",
   "id": "08755167",
   "metadata": {},
   "source": [
    "Some of the commonly used libraries used by Data Scientists include:\n",
    "1. ggplot\n",
    "2. matplotlib\n",
    "3. sci-py\n",
    "4. Tensorflow\n",
    "5. Pytorch\n",
    "6. numpy\n",
    "7. pandas"
   ]
  },
  {
   "cell_type": "markdown",
   "id": "80078d42",
   "metadata": {},
   "source": [
    "|Data Science Tools|\n",
    "| --- | \n",
    "|Jupyter Notebooks|\n",
    "|RStudio|\n",
    "|Vscode|\n"
   ]
  },
  {
   "cell_type": "markdown",
   "id": "4decd77a",
   "metadata": {},
   "source": [
    "### Below are a few examples of evaluating arithmetic expressions in Python"
   ]
  },
  {
   "cell_type": "code",
   "execution_count": null,
   "id": "7bfe95da",
   "metadata": {},
   "outputs": [
    {
     "name": "stdout",
     "output_type": "stream",
     "text": [
      "12\n"
     ]
    }
   ],
   "source": [
    "x = 5\n",
    "y = 7\n",
    "result = x + y\n",
    "print(result)"
   ]
  },
  {
   "cell_type": "code",
   "execution_count": 2,
   "id": "64471ed2",
   "metadata": {},
   "outputs": [
    {
     "data": {
      "text/plain": [
       "17"
      ]
     },
     "execution_count": 2,
     "metadata": {},
     "output_type": "execute_result"
    }
   ],
   "source": [
    "# This a simple arithmetic expression to mutiply then add integers\n",
    "(3*4)+5"
   ]
  },
  {
   "cell_type": "code",
   "execution_count": 4,
   "id": "efeae0b8",
   "metadata": {},
   "outputs": [
    {
     "name": "stdout",
     "output_type": "stream",
     "text": [
      "3.3333333333333335\n"
     ]
    }
   ],
   "source": [
    "# This will convert 200 minutes to hours by diving by 60.\n",
    "time_m = 200 # minutes\n",
    "time_h = time_m/60 # hour\n",
    "print(time_h)"
   ]
  },
  {
   "cell_type": "markdown",
   "id": "decdf70d",
   "metadata": {},
   "source": [
    "## Author:\n",
    "Bendegúz Barnabás Kiss"
   ]
  }
 ],
 "metadata": {
  "kernelspec": {
   "display_name": "Test",
   "language": "python",
   "name": "python3"
  },
  "language_info": {
   "codemirror_mode": {
    "name": "ipython",
    "version": 3
   },
   "file_extension": ".py",
   "mimetype": "text/x-python",
   "name": "python",
   "nbconvert_exporter": "python",
   "pygments_lexer": "ipython3",
   "version": "3.12.9"
  }
 },
 "nbformat": 4,
 "nbformat_minor": 5
}
